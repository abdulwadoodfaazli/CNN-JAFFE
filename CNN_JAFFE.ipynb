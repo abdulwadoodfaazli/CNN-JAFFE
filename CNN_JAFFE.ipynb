{
  "nbformat": 4,
  "nbformat_minor": 0,
  "metadata": {
    "colab": {
      "name": "Lab06_H_3_cnn_Abdulwadood Ashraf Faazli.ipynb",
      "provenance": [],
      "collapsed_sections": []
    },
    "kernelspec": {
      "name": "python3",
      "display_name": "Python 3"
    },
    "accelerator": "GPU"
  },
  "cells": [
    {
      "cell_type": "markdown",
      "metadata": {
        "id": "6JgIsB-U1gVW"
      },
      "source": [
        "# **Lab06: Create a Basic Convolutional Neural Network for Image Classification**"
      ]
    },
    {
      "cell_type": "markdown",
      "metadata": {
        "id": "tvKNe9YXrsn0"
      },
      "source": [
        "## 1. Import Library and Data"
      ]
    },
    {
      "cell_type": "code",
      "source": [
        "# Connect to Google Drive\n",
        "from google.colab import drive\n",
        "drive.mount('/content/gdrive')"
      ],
      "metadata": {
        "colab": {
          "base_uri": "https://localhost:8080/"
        },
        "id": "RJn3rJzkb9Ja",
        "outputId": "ababeec6-61ad-4459-d046-745e5e525a1a"
      },
      "execution_count": 1,
      "outputs": [
        {
          "output_type": "stream",
          "name": "stdout",
          "text": [
            "Mounted at /content/gdrive\n"
          ]
        }
      ]
    },
    {
      "cell_type": "code",
      "metadata": {
        "id": "WCqIKd873_8g"
      },
      "source": [
        "#@title Code for loading the data\n",
        "# import libraries \n",
        "import tensorflow as tf \n",
        "import tensorflow.keras as keras\n",
        "import numpy as np\n",
        "import matplotlib.pyplot as plt\n",
        "\n",
        "# utilities library\n",
        "import cv2\n",
        "import os\n",
        "\n",
        "import random \n",
        "random.seed(0)\n",
        "np.random.seed(0)\n",
        "tf.random.set_seed(0)\n",
        "os.environ['PYTHONHASHSEED'] = '0'\n",
        "\n",
        "\n",
        "data_path = '/content/gdrive/My Drive/Colab Notebooks/DTT2022/data/jaffe/jaffe'\n",
        "data_dir_list = os.listdir(data_path)\n",
        "\n",
        "img_data_list=[]\n",
        "img_label = []\n",
        "label_map = {}\n",
        "i = 0 \n",
        "\n",
        "for dataset in data_dir_list:\n",
        "    img_list=os.listdir(data_path+'/'+ dataset)\n",
        "    label_map[i] = str(dataset)\n",
        "    \n",
        "    # print ('Load the images of dataset-'+'{}\\n'.format(dataset))\n",
        "    for img in img_list:\n",
        "        img_label.append(i)\n",
        "        input_img=cv2.imread(data_path + '/'+ dataset + '/'+ img )\n",
        "        input_img_resize=cv2.resize(input_img,(128,128))\n",
        "        img_data_list.append(input_img_resize)\n",
        "    i += 1\n",
        "\n",
        "img_data = np.array(img_data_list)\n",
        "img_data = img_data.astype('float')\n",
        "img_data = img_data/255 #normalization\n",
        "img_label = np.array(img_label)\n",
        "\n",
        "# num_classes = 6\n",
        "# num_of_samples = img_data.shape[0]\n",
        "# img_label = np.ones((num_of_samples,),dtype='int')\n",
        "\n",
        "# img_label[0:29]=0 #30\n",
        "# img_label[30:58]=1 #29\n",
        "# img_label[59:90]=2 #32\n",
        "# img_label[91:121]=3 #31\n",
        "# img_label[122:152]=4 #31\n",
        "# img_label[153:]=5 #30\n",
        "# names = ['ANGRY','DISGUST','FEAR','HAPPY','SAD','SURPRISE']\n",
        "\n",
        "def getlabel(id):\n",
        "    return label_map[id]"
      ],
      "execution_count": 2,
      "outputs": []
    },
    {
      "cell_type": "markdown",
      "metadata": {
        "id": "aNdwKVdk4EDB"
      },
      "source": [
        "**About this Data**: \n",
        "\n",
        "We will use the Japanese Female Facial Expression (JAFFE) dataset which has 183 images of 10 different female models posing for 6 emotions. The data will be normalized so its value will ranging from 0 to 1. \n",
        "\n",
        "The label will be denoted as numbers, which follow this mapping : \n",
        "\n",
        "|    | Expression   |\n",
        "|---:|:-------------|\n",
        "|  0 | DISGUST          |\n",
        "|  1 | SAD          |\n",
        "|  2 | SURPRISE       |\n",
        "|  3 |   ANGRY    |\n",
        "|  4 |  HAPPY      |\n",
        "|  5 |   FEAR    |\n",
        "\n",
        "<details> <summary>Cite the author</summary>\n",
        "Michael J. Lyons, Shigeru Akamatsu, Miyuki Kamachi, Jiro Gyoba. Coding Facial Expressions with Gabor Wavelets, 3rd IEEE International Conference on Automatic Face and Gesture Recognition, pp. 200-205 (1998). http://doi.org/10.1109/AFGR.1998.670949 Open access content available at: https://zenodo.org/record/3430156\n",
        "\n",
        "</details>"
      ]
    },
    {
      "cell_type": "markdown",
      "metadata": {
        "id": "AwqBvQUi4WJs"
      },
      "source": [
        "split the data into train and test set so that we can perform **cross validation** later"
      ]
    },
    {
      "cell_type": "code",
      "metadata": {
        "id": "BA0wzHHI4MMj"
      },
      "source": [
        "from sklearn.model_selection import train_test_split\n",
        "x_train, x_test, y_train, y_test = train_test_split(img_data, img_label, test_size=0.1, random_state=0)"
      ],
      "execution_count": 3,
      "outputs": []
    },
    {
      "cell_type": "markdown",
      "metadata": {
        "id": "2GvsLxgDrylu"
      },
      "source": [
        "___"
      ]
    },
    {
      "cell_type": "markdown",
      "metadata": {
        "id": "Mp9sP0oHr1JM"
      },
      "source": [
        "## 2. Create the Model"
      ]
    },
    {
      "cell_type": "markdown",
      "metadata": {
        "id": "mxIABEyz16Q9"
      },
      "source": [
        "In previous two notebook, we already created a similar model using keras. Here's the code if you wanted to remember."
      ]
    },
    {
      "cell_type": "code",
      "metadata": {
        "id": "LTsugUr11KaC"
      },
      "source": [
        "# simple model in 1st Notebook\n",
        "model_simple = keras.Sequential()\n",
        "model_simple.add(keras.layers.Dense(units=1, input_shape=[1]))\n",
        "\n",
        "model_simple.compile(optimizer='SGD', loss='mean_squared_error')"
      ],
      "execution_count": 4,
      "outputs": []
    },
    {
      "cell_type": "code",
      "metadata": {
        "id": "ezcE05Ex0YG9"
      },
      "source": [
        "# Neural Network in 2nd Notebook\n",
        "model_nn = keras.Sequential()\n",
        "\n",
        "model_nn.add(keras.layers.Flatten(input_shape=(128,128,3)) ) # flatten layer \n",
        "model_nn.add(keras.layers.Dense(units = 128,activation='relu') )  #input layer \n",
        "model_nn.add(keras.layers.Dense(units = 64, activation='relu') )  # hidden layer \n",
        "model_nn.add(keras.layers.Dense(units = 6, activation='softmax') ) # output layer \n",
        "\n",
        "model_nn.compile(optimizer='adam', loss='sparse_categorical_crossentropy', metrics=['accuracy'])"
      ],
      "execution_count": 5,
      "outputs": []
    },
    {
      "cell_type": "markdown",
      "metadata": {
        "id": "ZZOdssMWyvIH"
      },
      "source": [
        "In this Lab, we will build a simple CNNs to do the image classification. We are now trying to add a convolutional part to our model. Mind the changes compared to previous basic neural network"
      ]
    },
    {
      "cell_type": "code",
      "metadata": {
        "id": "6K-BEPUOy7qX"
      },
      "source": [
        "model_cnn = keras.Sequential()\n",
        "\n",
        "model_cnn.add(keras.layers.Conv2D(filters=16, kernel_size=(5,5), input_shape=(128,128,3), padding='same', activation=\"relu\"))\n",
        "model_cnn.add(keras.layers.Conv2D(filters=32, kernel_size=(3,3), padding='same', activation=\"relu\"))\n",
        "model_cnn.add(keras.layers.MaxPooling2D())\n",
        "\n",
        "model_cnn.add(keras.layers.Flatten()) # flatten layer \n",
        "model_cnn.add(keras.layers.Dense(units = 128,activation='relu') )  #input layer \n",
        "model_cnn.add(keras.layers.Dense(units = 64, activation='relu') )  # hidden layer \n",
        "model_cnn.add(keras.layers.Dense(units = 6, activation='softmax') ) # output layer \n",
        "\n",
        "model_cnn.compile(optimizer='adam', loss='sparse_categorical_crossentropy', metrics=['accuracy'])"
      ],
      "execution_count": 6,
      "outputs": []
    },
    {
      "cell_type": "code",
      "metadata": {
        "id": "W1JjuonIRx6W",
        "colab": {
          "base_uri": "https://localhost:8080/"
        },
        "outputId": "875e95a9-c9e6-437b-fe54-28a7da0dca71"
      },
      "source": [
        "# summarize the model to see what happened inside\n",
        "model_cnn.summary()"
      ],
      "execution_count": 7,
      "outputs": [
        {
          "output_type": "stream",
          "name": "stdout",
          "text": [
            "Model: \"sequential_2\"\n",
            "_________________________________________________________________\n",
            " Layer (type)                Output Shape              Param #   \n",
            "=================================================================\n",
            " conv2d (Conv2D)             (None, 128, 128, 16)      1216      \n",
            "                                                                 \n",
            " conv2d_1 (Conv2D)           (None, 128, 128, 32)      4640      \n",
            "                                                                 \n",
            " max_pooling2d (MaxPooling2D  (None, 64, 64, 32)       0         \n",
            " )                                                               \n",
            "                                                                 \n",
            " flatten_1 (Flatten)         (None, 131072)            0         \n",
            "                                                                 \n",
            " dense_4 (Dense)             (None, 128)               16777344  \n",
            "                                                                 \n",
            " dense_5 (Dense)             (None, 64)                8256      \n",
            "                                                                 \n",
            " dense_6 (Dense)             (None, 6)                 390       \n",
            "                                                                 \n",
            "=================================================================\n",
            "Total params: 16,791,846\n",
            "Trainable params: 16,791,846\n",
            "Non-trainable params: 0\n",
            "_________________________________________________________________\n"
          ]
        }
      ]
    },
    {
      "cell_type": "markdown",
      "metadata": {
        "id": "Gle7bAyor6nl"
      },
      "source": [
        "## 3. Train the Model"
      ]
    },
    {
      "cell_type": "code",
      "metadata": {
        "id": "VcYMhc1u13rd",
        "colab": {
          "base_uri": "https://localhost:8080/"
        },
        "outputId": "a879bbad-2da4-4c71-9d9c-60aa88a0c1a5"
      },
      "source": [
        "model_cnn.fit(x_train, y_train, epochs=20, verbose=1);"
      ],
      "execution_count": 8,
      "outputs": [
        {
          "output_type": "stream",
          "name": "stdout",
          "text": [
            "Epoch 1/20\n",
            "6/6 [==============================] - 10s 44ms/step - loss: 6.5812 - accuracy: 0.1951\n",
            "Epoch 2/20\n",
            "6/6 [==============================] - 0s 19ms/step - loss: 2.1301 - accuracy: 0.1098\n",
            "Epoch 3/20\n",
            "6/6 [==============================] - 0s 19ms/step - loss: 1.8165 - accuracy: 0.1585\n",
            "Epoch 4/20\n",
            "6/6 [==============================] - 0s 18ms/step - loss: 1.7915 - accuracy: 0.1463\n",
            "Epoch 5/20\n",
            "6/6 [==============================] - 0s 19ms/step - loss: 1.7561 - accuracy: 0.2012\n",
            "Epoch 6/20\n",
            "6/6 [==============================] - 0s 18ms/step - loss: 1.7438 - accuracy: 0.2561\n",
            "Epoch 7/20\n",
            "6/6 [==============================] - 0s 18ms/step - loss: 1.6771 - accuracy: 0.3537\n",
            "Epoch 8/20\n",
            "6/6 [==============================] - 0s 19ms/step - loss: 1.6026 - accuracy: 0.3232\n",
            "Epoch 9/20\n",
            "6/6 [==============================] - 0s 19ms/step - loss: 1.4952 - accuracy: 0.4573\n",
            "Epoch 10/20\n",
            "6/6 [==============================] - 0s 19ms/step - loss: 1.4148 - accuracy: 0.4329\n",
            "Epoch 11/20\n",
            "6/6 [==============================] - 0s 19ms/step - loss: 1.3224 - accuracy: 0.4878\n",
            "Epoch 12/20\n",
            "6/6 [==============================] - 0s 19ms/step - loss: 1.1536 - accuracy: 0.5549\n",
            "Epoch 13/20\n",
            "6/6 [==============================] - 0s 19ms/step - loss: 0.9312 - accuracy: 0.6524\n",
            "Epoch 14/20\n",
            "6/6 [==============================] - 0s 18ms/step - loss: 0.7425 - accuracy: 0.7500\n",
            "Epoch 15/20\n",
            "6/6 [==============================] - 0s 19ms/step - loss: 0.6320 - accuracy: 0.7866\n",
            "Epoch 16/20\n",
            "6/6 [==============================] - 0s 19ms/step - loss: 0.4019 - accuracy: 0.8963\n",
            "Epoch 17/20\n",
            "6/6 [==============================] - 0s 19ms/step - loss: 0.2708 - accuracy: 0.9207\n",
            "Epoch 18/20\n",
            "6/6 [==============================] - 0s 19ms/step - loss: 0.1641 - accuracy: 0.9573\n",
            "Epoch 19/20\n",
            "6/6 [==============================] - 0s 18ms/step - loss: 0.1176 - accuracy: 0.9817\n",
            "Epoch 20/20\n",
            "6/6 [==============================] - 0s 18ms/step - loss: 0.1703 - accuracy: 0.9268\n"
          ]
        }
      ]
    },
    {
      "cell_type": "markdown",
      "metadata": {
        "id": "5uRG1intr8vS"
      },
      "source": [
        "## 4. Exercise: Test the Model"
      ]
    },
    {
      "cell_type": "code",
      "metadata": {
        "id": "mUw3D-OoowYR",
        "colab": {
          "base_uri": "https://localhost:8080/"
        },
        "outputId": "541f1090-5e45-4774-ea61-02187ffa6339"
      },
      "source": [
        "# Hints: You can refer to Lab05\n",
        "# Exercise: Select the 7th image in the test set as sample, and pass it to the model to see the classification result\n",
        "\n",
        "# Step 1: select 7-th image as sample\n",
        "sample = x_test[6:7]\n",
        "sample"
      ],
      "execution_count": 27,
      "outputs": [
        {
          "output_type": "execute_result",
          "data": {
            "text/plain": [
              "array([[[[0.45490196, 0.45490196, 0.45490196],\n",
              "         [0.45098039, 0.45098039, 0.45098039],\n",
              "         [0.46666667, 0.46666667, 0.46666667],\n",
              "         ...,\n",
              "         [0.42352941, 0.42352941, 0.42352941],\n",
              "         [0.41960784, 0.41960784, 0.41960784],\n",
              "         [0.42352941, 0.42352941, 0.42352941]],\n",
              "\n",
              "        [[0.47058824, 0.47058824, 0.47058824],\n",
              "         [0.4627451 , 0.4627451 , 0.4627451 ],\n",
              "         [0.4627451 , 0.4627451 , 0.4627451 ],\n",
              "         ...,\n",
              "         [0.41568627, 0.41568627, 0.41568627],\n",
              "         [0.41568627, 0.41568627, 0.41568627],\n",
              "         [0.41960784, 0.41960784, 0.41960784]],\n",
              "\n",
              "        [[0.4627451 , 0.4627451 , 0.4627451 ],\n",
              "         [0.4627451 , 0.4627451 , 0.4627451 ],\n",
              "         [0.4745098 , 0.4745098 , 0.4745098 ],\n",
              "         ...,\n",
              "         [0.41960784, 0.41960784, 0.41960784],\n",
              "         [0.43137255, 0.43137255, 0.43137255],\n",
              "         [0.41960784, 0.41960784, 0.41960784]],\n",
              "\n",
              "        ...,\n",
              "\n",
              "        [[0.23921569, 0.23921569, 0.23921569],\n",
              "         [0.24705882, 0.24705882, 0.24705882],\n",
              "         [0.21568627, 0.21568627, 0.21568627],\n",
              "         ...,\n",
              "         [0.45098039, 0.45098039, 0.45098039],\n",
              "         [0.45098039, 0.45098039, 0.45098039],\n",
              "         [0.43529412, 0.43529412, 0.43529412]],\n",
              "\n",
              "        [[0.23529412, 0.23529412, 0.23529412],\n",
              "         [0.21176471, 0.21176471, 0.21176471],\n",
              "         [0.19607843, 0.19607843, 0.19607843],\n",
              "         ...,\n",
              "         [0.44705882, 0.44705882, 0.44705882],\n",
              "         [0.42352941, 0.42352941, 0.42352941],\n",
              "         [0.44313725, 0.44313725, 0.44313725]],\n",
              "\n",
              "        [[0.19607843, 0.19607843, 0.19607843],\n",
              "         [0.19215686, 0.19215686, 0.19215686],\n",
              "         [0.19215686, 0.19215686, 0.19215686],\n",
              "         ...,\n",
              "         [0.43921569, 0.43921569, 0.43921569],\n",
              "         [0.44705882, 0.44705882, 0.44705882],\n",
              "         [0.43137255, 0.43137255, 0.43137255]]]])"
            ]
          },
          "metadata": {},
          "execution_count": 27
        }
      ]
    },
    {
      "cell_type": "code",
      "source": [
        "# Step 2: Print the original label for the image\n",
        "og_label = y_test[6]\n",
        "print(f\"The original label for the given sample is {og_label}\")\n",
        "print(f\"That translates to {getlabel(og_label)}\")"
      ],
      "metadata": {
        "colab": {
          "base_uri": "https://localhost:8080/"
        },
        "id": "9H-D6cRDl0_k",
        "outputId": "0b79fb42-f98b-41ff-e4eb-0abc2a9a96ff"
      },
      "execution_count": 31,
      "outputs": [
        {
          "output_type": "stream",
          "name": "stdout",
          "text": [
            "The original label for the given sample is 0\n",
            "That translates to SURPRISE\n"
          ]
        }
      ]
    },
    {
      "cell_type": "code",
      "source": [
        "\n",
        "# Step 3: Plot the image to validate\n",
        "plt.imshow(sample[0])"
      ],
      "metadata": {
        "colab": {
          "base_uri": "https://localhost:8080/",
          "height": 285
        },
        "id": "5DMcFD87l3oX",
        "outputId": "7f43adf2-e7f0-42fa-887d-d678763acb6c"
      },
      "execution_count": 40,
      "outputs": [
        {
          "output_type": "execute_result",
          "data": {
            "text/plain": [
              "<matplotlib.image.AxesImage at 0x7f17200f5c10>"
            ]
          },
          "metadata": {},
          "execution_count": 40
        },
        {
          "output_type": "display_data",
          "data": {
            "text/plain": [
              "<Figure size 432x288 with 1 Axes>"
            ],
            "image/png": "[encoded data removed]"
          },
          "metadata": {
            "needs_background": "light"
          }
        }
      ]
    },
    {
      "cell_type": "code",
      "source": [
        "# # Step 4: Predict sample image\n",
        "model_cnn.predict(sample)"
      ],
      "metadata": {
        "colab": {
          "base_uri": "https://localhost:8080/"
        },
        "id": "Bs2BXdHBl5Or",
        "outputId": "58f4ccab-6ac4-4479-f8dd-31badefd7f58"
      },
      "execution_count": 32,
      "outputs": [
        {
          "output_type": "execute_result",
          "data": {
            "text/plain": [
              "array([[9.9317920e-01, 5.3749618e-04, 1.8099430e-03, 1.9272483e-07,\n",
              "        8.1130056e-05, 4.3919669e-03]], dtype=float32)"
            ]
          },
          "metadata": {},
          "execution_count": 32
        }
      ]
    },
    {
      "cell_type": "code",
      "source": [
        "# Step 5: Use np argmax to get the highest number (most activated) of output layer\n",
        "maxi = np.argmax(model_cnn.predict(sample))\n",
        "maxi"
      ],
      "metadata": {
        "colab": {
          "base_uri": "https://localhost:8080/"
        },
        "id": "e3zFWNe4l6lo",
        "outputId": "59e1b8d0-d6eb-4972-e1f2-8a1aee93f993"
      },
      "execution_count": 33,
      "outputs": [
        {
          "output_type": "execute_result",
          "data": {
            "text/plain": [
              "0"
            ]
          },
          "metadata": {},
          "execution_count": 33
        }
      ]
    },
    {
      "cell_type": "code",
      "source": [
        "# Step 6: Convert the prediction result to string\n",
        "print(getlabel(maxi))\n",
        "\n",
        "if getlabel(maxi) == getlabel(og_label):\n",
        "  print(\"The model predicted the image accurately\")"
      ],
      "metadata": {
        "colab": {
          "base_uri": "https://localhost:8080/"
        },
        "id": "lBf9R4Z6l8uZ",
        "outputId": "5f78d02a-fa3d-4e34-ab99-f70f23fe565d"
      },
      "execution_count": 37,
      "outputs": [
        {
          "output_type": "stream",
          "name": "stdout",
          "text": [
            "SURPRISE\n",
            "The model predicted the image accurately\n"
          ]
        }
      ]
    },
    {
      "cell_type": "markdown",
      "metadata": {
        "id": "DY2P1BrfJaSY"
      },
      "source": [
        "# Comparing Neural Network with CNN"
      ]
    },
    {
      "cell_type": "code",
      "metadata": {
        "id": "ye70BMHq5fu8",
        "colab": {
          "base_uri": "https://localhost:8080/"
        },
        "outputId": "556151f6-b108-4bf3-eb36-6e644271912f"
      },
      "source": [
        "# train the basic neural network we previously have defined\n",
        "model_nn.fit(x_train, y_train, epochs=40)"
      ],
      "execution_count": 38,
      "outputs": [
        {
          "output_type": "stream",
          "name": "stdout",
          "text": [
            "Epoch 1/40\n",
            "6/6 [==============================] - 0s 6ms/step - loss: 14.0663 - accuracy: 0.1890\n",
            "Epoch 2/40\n",
            "6/6 [==============================] - 0s 6ms/step - loss: 10.5370 - accuracy: 0.2134\n",
            "Epoch 3/40\n",
            "6/6 [==============================] - 0s 6ms/step - loss: 4.2060 - accuracy: 0.2317\n",
            "Epoch 4/40\n",
            "6/6 [==============================] - 0s 6ms/step - loss: 3.4505 - accuracy: 0.2439\n",
            "Epoch 5/40\n",
            "6/6 [==============================] - 0s 5ms/step - loss: 2.6598 - accuracy: 0.3049\n",
            "Epoch 6/40\n",
            "6/6 [==============================] - 0s 6ms/step - loss: 2.0766 - accuracy: 0.3598\n",
            "Epoch 7/40\n",
            "6/6 [==============================] - 0s 6ms/step - loss: 1.8528 - accuracy: 0.4024\n",
            "Epoch 8/40\n",
            "6/6 [==============================] - 0s 6ms/step - loss: 1.7410 - accuracy: 0.4085\n",
            "Epoch 9/40\n",
            "6/6 [==============================] - 0s 6ms/step - loss: 2.0010 - accuracy: 0.3293\n",
            "Epoch 10/40\n",
            "6/6 [==============================] - 0s 5ms/step - loss: 1.7827 - accuracy: 0.4451\n",
            "Epoch 11/40\n",
            "6/6 [==============================] - 0s 6ms/step - loss: 1.3441 - accuracy: 0.5061\n",
            "Epoch 12/40\n",
            "6/6 [==============================] - 0s 6ms/step - loss: 1.4591 - accuracy: 0.5793\n",
            "Epoch 13/40\n",
            "6/6 [==============================] - 0s 6ms/step - loss: 1.9004 - accuracy: 0.4207\n",
            "Epoch 14/40\n",
            "6/6 [==============================] - 0s 6ms/step - loss: 1.1365 - accuracy: 0.5244\n",
            "Epoch 15/40\n",
            "6/6 [==============================] - 0s 6ms/step - loss: 1.2450 - accuracy: 0.5732\n",
            "Epoch 16/40\n",
            "6/6 [==============================] - 0s 6ms/step - loss: 0.8678 - accuracy: 0.6524\n",
            "Epoch 17/40\n",
            "6/6 [==============================] - 0s 6ms/step - loss: 0.7927 - accuracy: 0.7073\n",
            "Epoch 18/40\n",
            "6/6 [==============================] - 0s 6ms/step - loss: 0.9616 - accuracy: 0.6524\n",
            "Epoch 19/40\n",
            "6/6 [==============================] - 0s 5ms/step - loss: 0.8639 - accuracy: 0.6707\n",
            "Epoch 20/40\n",
            "6/6 [==============================] - 0s 6ms/step - loss: 1.5869 - accuracy: 0.5793\n",
            "Epoch 21/40\n",
            "6/6 [==============================] - 0s 6ms/step - loss: 1.3159 - accuracy: 0.5244\n",
            "Epoch 22/40\n",
            "6/6 [==============================] - 0s 6ms/step - loss: 1.0448 - accuracy: 0.6341\n",
            "Epoch 23/40\n",
            "6/6 [==============================] - 0s 5ms/step - loss: 0.7254 - accuracy: 0.7622\n",
            "Epoch 24/40\n",
            "6/6 [==============================] - 0s 6ms/step - loss: 0.5547 - accuracy: 0.7927\n",
            "Epoch 25/40\n",
            "6/6 [==============================] - 0s 6ms/step - loss: 0.5097 - accuracy: 0.8598\n",
            "Epoch 26/40\n",
            "6/6 [==============================] - 0s 5ms/step - loss: 0.4595 - accuracy: 0.8841\n",
            "Epoch 27/40\n",
            "6/6 [==============================] - 0s 6ms/step - loss: 0.8090 - accuracy: 0.6829\n",
            "Epoch 28/40\n",
            "6/6 [==============================] - 0s 6ms/step - loss: 0.6542 - accuracy: 0.7805\n",
            "Epoch 29/40\n",
            "6/6 [==============================] - 0s 6ms/step - loss: 0.7038 - accuracy: 0.7317\n",
            "Epoch 30/40\n",
            "6/6 [==============================] - 0s 6ms/step - loss: 0.5869 - accuracy: 0.7805\n",
            "Epoch 31/40\n",
            "6/6 [==============================] - 0s 6ms/step - loss: 0.7379 - accuracy: 0.7012\n",
            "Epoch 32/40\n",
            "6/6 [==============================] - 0s 6ms/step - loss: 0.7999 - accuracy: 0.7012\n",
            "Epoch 33/40\n",
            "6/6 [==============================] - 0s 6ms/step - loss: 0.7061 - accuracy: 0.7866\n",
            "Epoch 34/40\n",
            "6/6 [==============================] - 0s 6ms/step - loss: 0.4294 - accuracy: 0.8598\n",
            "Epoch 35/40\n",
            "6/6 [==============================] - 0s 6ms/step - loss: 0.3936 - accuracy: 0.9024\n",
            "Epoch 36/40\n",
            "6/6 [==============================] - 0s 6ms/step - loss: 0.3604 - accuracy: 0.8902\n",
            "Epoch 37/40\n",
            "6/6 [==============================] - 0s 6ms/step - loss: 0.3761 - accuracy: 0.8720\n",
            "Epoch 38/40\n",
            "6/6 [==============================] - 0s 6ms/step - loss: 0.3071 - accuracy: 0.9268\n",
            "Epoch 39/40\n",
            "6/6 [==============================] - 0s 6ms/step - loss: 0.2288 - accuracy: 0.9817\n",
            "Epoch 40/40\n",
            "6/6 [==============================] - 0s 5ms/step - loss: 0.2643 - accuracy: 0.9390\n"
          ]
        },
        {
          "output_type": "execute_result",
          "data": {
            "text/plain": [
              "<keras.callbacks.History at 0x7f1721480390>"
            ]
          },
          "metadata": {},
          "execution_count": 38
        }
      ]
    },
    {
      "cell_type": "code",
      "metadata": {
        "id": "OWnguy8u5shr",
        "colab": {
          "base_uri": "https://localhost:8080/"
        },
        "outputId": "5a6fd215-1706-4484-e62e-b2db67702911"
      },
      "source": [
        "score_accuracy = model_nn.evaluate(x_test, y_test)"
      ],
      "execution_count": 39,
      "outputs": [
        {
          "output_type": "stream",
          "name": "stdout",
          "text": [
            "1/1 [==============================] - 0s 123ms/step - loss: 0.7563 - accuracy: 0.6842\n"
          ]
        }
      ]
    }
  ]
}